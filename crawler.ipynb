{
 "cells": [
  {
   "cell_type": "code",
   "execution_count": 1,
   "metadata": {},
   "outputs": [
    {
     "ename": "NoSuchWindowException",
     "evalue": "Message: no such window: target window already closed\nfrom unknown error: web view not found\n  (Session info: chrome=129.0.6668.72)\nStacktrace:\n0   chromedriver                        0x0000000100f90248 cxxbridge1$str$ptr + 1907280\n1   chromedriver                        0x0000000100f88730 cxxbridge1$str$ptr + 1875768\n2   chromedriver                        0x0000000100b9c260 cxxbridge1$string$len + 89488\n3   chromedriver                        0x0000000100b77728 core::str::slice_error_fail::hbaf5d05fe3921cd2 + 3776\n4   chromedriver                        0x0000000100c06e8c cxxbridge1$string$len + 526780\n5   chromedriver                        0x0000000100c1a218 cxxbridge1$string$len + 605512\n6   chromedriver                        0x0000000100bd512c cxxbridge1$string$len + 322652\n7   chromedriver                        0x0000000100bd5d7c cxxbridge1$string$len + 325804\n8   chromedriver                        0x0000000100f584d8 cxxbridge1$str$ptr + 1678560\n9   chromedriver                        0x0000000100f5ce40 cxxbridge1$str$ptr + 1697352\n10  chromedriver                        0x0000000100f3d5ec cxxbridge1$str$ptr + 1568244\n11  chromedriver                        0x0000000100f5d710 cxxbridge1$str$ptr + 1699608\n12  chromedriver                        0x0000000100f2eb90 cxxbridge1$str$ptr + 1508248\n13  chromedriver                        0x0000000100f79828 cxxbridge1$str$ptr + 1814576\n14  chromedriver                        0x0000000100f79980 cxxbridge1$str$ptr + 1814920\n15  chromedriver                        0x0000000100f883d0 cxxbridge1$str$ptr + 1874904\n16  libsystem_pthread.dylib             0x000000019523426c _pthread_start + 148\n17  libsystem_pthread.dylib             0x000000019522f08c thread_start + 8\n",
     "output_type": "error",
     "traceback": [
      "\u001b[0;31m---------------------------------------------------------------------------\u001b[0m",
      "\u001b[0;31mNoSuchWindowException\u001b[0m                     Traceback (most recent call last)",
      "Cell \u001b[0;32mIn[1], line 4\u001b[0m\n\u001b[1;32m      1\u001b[0m \u001b[38;5;28;01mfrom\u001b[39;00m \u001b[38;5;21;01mutil\u001b[39;00m \u001b[38;5;28;01mimport\u001b[39;00m \u001b[38;5;241m*\u001b[39m\n\u001b[1;32m      3\u001b[0m data_list \u001b[38;5;241m=\u001b[39m []\n\u001b[0;32m----> 4\u001b[0m links \u001b[38;5;241m=\u001b[39m \u001b[43mget_all_beauty_links\u001b[49m\u001b[43m(\u001b[49m\u001b[43m)\u001b[49m\u001b[38;5;241m+\u001b[39mget_rehabilitation_nursing_links()\n\u001b[1;32m      5\u001b[0m \u001b[38;5;28;01mfor\u001b[39;00m url \u001b[38;5;129;01min\u001b[39;00m links:\n\u001b[1;32m      6\u001b[0m     data \u001b[38;5;241m=\u001b[39m crawl_a_page(url)\n",
      "File \u001b[0;32m~/Desktop/crawer-demo/util.py:100\u001b[0m, in \u001b[0;36mget_all_beauty_links\u001b[0;34m()\u001b[0m\n\u001b[1;32m     98\u001b[0m \u001b[38;5;28;01mfor\u001b[39;00m i \u001b[38;5;129;01min\u001b[39;00m \u001b[38;5;28mrange\u001b[39m(\u001b[38;5;241m1\u001b[39m,\u001b[38;5;241m7\u001b[39m):\n\u001b[1;32m     99\u001b[0m     driver\u001b[38;5;241m.\u001b[39mget(\u001b[38;5;124mf\u001b[39m\u001b[38;5;124m'\u001b[39m\u001b[38;5;124mhttp://www.chinamedevice.cn/product/12/11/1128/\u001b[39m\u001b[38;5;132;01m{\u001b[39;00mi\u001b[38;5;132;01m}\u001b[39;00m\u001b[38;5;124m.html\u001b[39m\u001b[38;5;124m'\u001b[39m)\n\u001b[0;32m--> 100\u001b[0m     items \u001b[38;5;241m=\u001b[39m \u001b[43mdriver\u001b[49m\u001b[38;5;241;43m.\u001b[39;49m\u001b[43mfind_elements\u001b[49m\u001b[43m(\u001b[49m\u001b[43mBy\u001b[49m\u001b[38;5;241;43m.\u001b[39;49m\u001b[43mCSS_SELECTOR\u001b[49m\u001b[43m,\u001b[49m\u001b[43m \u001b[49m\u001b[38;5;124;43m'\u001b[39;49m\u001b[38;5;124;43ma.green.fb.f13\u001b[39;49m\u001b[38;5;124;43m'\u001b[39;49m\u001b[43m)\u001b[49m\n\u001b[1;32m    101\u001b[0m     \u001b[38;5;28;01mfor\u001b[39;00m item \u001b[38;5;129;01min\u001b[39;00m items:\n\u001b[1;32m    102\u001b[0m         links\u001b[38;5;241m.\u001b[39mappend(item\u001b[38;5;241m.\u001b[39mget_attribute(\u001b[38;5;124m'\u001b[39m\u001b[38;5;124mhref\u001b[39m\u001b[38;5;124m'\u001b[39m))\n",
      "File \u001b[0;32m~/Desktop/crawer-demo/.venv/lib/python3.12/site-packages/selenium/webdriver/remote/webdriver.py:778\u001b[0m, in \u001b[0;36mWebDriver.find_elements\u001b[0;34m(self, by, value)\u001b[0m\n\u001b[1;32m    774\u001b[0m     value \u001b[38;5;241m=\u001b[39m \u001b[38;5;124mf\u001b[39m\u001b[38;5;124m'\u001b[39m\u001b[38;5;124m[name=\u001b[39m\u001b[38;5;124m\"\u001b[39m\u001b[38;5;132;01m{\u001b[39;00mvalue\u001b[38;5;132;01m}\u001b[39;00m\u001b[38;5;124m\"\u001b[39m\u001b[38;5;124m]\u001b[39m\u001b[38;5;124m'\u001b[39m\n\u001b[1;32m    776\u001b[0m \u001b[38;5;66;03m# Return empty list if driver returns null\u001b[39;00m\n\u001b[1;32m    777\u001b[0m \u001b[38;5;66;03m# See https://github.com/SeleniumHQ/selenium/issues/4555\u001b[39;00m\n\u001b[0;32m--> 778\u001b[0m \u001b[38;5;28;01mreturn\u001b[39;00m \u001b[38;5;28;43mself\u001b[39;49m\u001b[38;5;241;43m.\u001b[39;49m\u001b[43mexecute\u001b[49m\u001b[43m(\u001b[49m\u001b[43mCommand\u001b[49m\u001b[38;5;241;43m.\u001b[39;49m\u001b[43mFIND_ELEMENTS\u001b[49m\u001b[43m,\u001b[49m\u001b[43m \u001b[49m\u001b[43m{\u001b[49m\u001b[38;5;124;43m\"\u001b[39;49m\u001b[38;5;124;43musing\u001b[39;49m\u001b[38;5;124;43m\"\u001b[39;49m\u001b[43m:\u001b[49m\u001b[43m \u001b[49m\u001b[43mby\u001b[49m\u001b[43m,\u001b[49m\u001b[43m \u001b[49m\u001b[38;5;124;43m\"\u001b[39;49m\u001b[38;5;124;43mvalue\u001b[39;49m\u001b[38;5;124;43m\"\u001b[39;49m\u001b[43m:\u001b[49m\u001b[43m \u001b[49m\u001b[43mvalue\u001b[49m\u001b[43m}\u001b[49m\u001b[43m)\u001b[49m[\u001b[38;5;124m\"\u001b[39m\u001b[38;5;124mvalue\u001b[39m\u001b[38;5;124m\"\u001b[39m] \u001b[38;5;129;01mor\u001b[39;00m []\n",
      "File \u001b[0;32m~/Desktop/crawer-demo/.venv/lib/python3.12/site-packages/selenium/webdriver/remote/webdriver.py:354\u001b[0m, in \u001b[0;36mWebDriver.execute\u001b[0;34m(self, driver_command, params)\u001b[0m\n\u001b[1;32m    352\u001b[0m response \u001b[38;5;241m=\u001b[39m \u001b[38;5;28mself\u001b[39m\u001b[38;5;241m.\u001b[39mcommand_executor\u001b[38;5;241m.\u001b[39mexecute(driver_command, params)\n\u001b[1;32m    353\u001b[0m \u001b[38;5;28;01mif\u001b[39;00m response:\n\u001b[0;32m--> 354\u001b[0m     \u001b[38;5;28;43mself\u001b[39;49m\u001b[38;5;241;43m.\u001b[39;49m\u001b[43merror_handler\u001b[49m\u001b[38;5;241;43m.\u001b[39;49m\u001b[43mcheck_response\u001b[49m\u001b[43m(\u001b[49m\u001b[43mresponse\u001b[49m\u001b[43m)\u001b[49m\n\u001b[1;32m    355\u001b[0m     response[\u001b[38;5;124m\"\u001b[39m\u001b[38;5;124mvalue\u001b[39m\u001b[38;5;124m\"\u001b[39m] \u001b[38;5;241m=\u001b[39m \u001b[38;5;28mself\u001b[39m\u001b[38;5;241m.\u001b[39m_unwrap_value(response\u001b[38;5;241m.\u001b[39mget(\u001b[38;5;124m\"\u001b[39m\u001b[38;5;124mvalue\u001b[39m\u001b[38;5;124m\"\u001b[39m, \u001b[38;5;28;01mNone\u001b[39;00m))\n\u001b[1;32m    356\u001b[0m     \u001b[38;5;28;01mreturn\u001b[39;00m response\n",
      "File \u001b[0;32m~/Desktop/crawer-demo/.venv/lib/python3.12/site-packages/selenium/webdriver/remote/errorhandler.py:229\u001b[0m, in \u001b[0;36mErrorHandler.check_response\u001b[0;34m(self, response)\u001b[0m\n\u001b[1;32m    227\u001b[0m         alert_text \u001b[38;5;241m=\u001b[39m value[\u001b[38;5;124m\"\u001b[39m\u001b[38;5;124malert\u001b[39m\u001b[38;5;124m\"\u001b[39m]\u001b[38;5;241m.\u001b[39mget(\u001b[38;5;124m\"\u001b[39m\u001b[38;5;124mtext\u001b[39m\u001b[38;5;124m\"\u001b[39m)\n\u001b[1;32m    228\u001b[0m     \u001b[38;5;28;01mraise\u001b[39;00m exception_class(message, screen, stacktrace, alert_text)  \u001b[38;5;66;03m# type: ignore[call-arg]  # mypy is not smart enough here\u001b[39;00m\n\u001b[0;32m--> 229\u001b[0m \u001b[38;5;28;01mraise\u001b[39;00m exception_class(message, screen, stacktrace)\n",
      "\u001b[0;31mNoSuchWindowException\u001b[0m: Message: no such window: target window already closed\nfrom unknown error: web view not found\n  (Session info: chrome=129.0.6668.72)\nStacktrace:\n0   chromedriver                        0x0000000100f90248 cxxbridge1$str$ptr + 1907280\n1   chromedriver                        0x0000000100f88730 cxxbridge1$str$ptr + 1875768\n2   chromedriver                        0x0000000100b9c260 cxxbridge1$string$len + 89488\n3   chromedriver                        0x0000000100b77728 core::str::slice_error_fail::hbaf5d05fe3921cd2 + 3776\n4   chromedriver                        0x0000000100c06e8c cxxbridge1$string$len + 526780\n5   chromedriver                        0x0000000100c1a218 cxxbridge1$string$len + 605512\n6   chromedriver                        0x0000000100bd512c cxxbridge1$string$len + 322652\n7   chromedriver                        0x0000000100bd5d7c cxxbridge1$string$len + 325804\n8   chromedriver                        0x0000000100f584d8 cxxbridge1$str$ptr + 1678560\n9   chromedriver                        0x0000000100f5ce40 cxxbridge1$str$ptr + 1697352\n10  chromedriver                        0x0000000100f3d5ec cxxbridge1$str$ptr + 1568244\n11  chromedriver                        0x0000000100f5d710 cxxbridge1$str$ptr + 1699608\n12  chromedriver                        0x0000000100f2eb90 cxxbridge1$str$ptr + 1508248\n13  chromedriver                        0x0000000100f79828 cxxbridge1$str$ptr + 1814576\n14  chromedriver                        0x0000000100f79980 cxxbridge1$str$ptr + 1814920\n15  chromedriver                        0x0000000100f883d0 cxxbridge1$str$ptr + 1874904\n16  libsystem_pthread.dylib             0x000000019523426c _pthread_start + 148\n17  libsystem_pthread.dylib             0x000000019522f08c thread_start + 8\n"
     ]
    }
   ],
   "source": [
    "from util import *\n",
    "\n",
    "data_list = []\n",
    "links = get_all_beauty_links()+get_rehabilitation_nursing_links()\n",
    "for url in links:\n",
    "    data = crawl_a_page(url)\n",
    "    data_list.append(data)\n",
    "data_list"
   ]
  },
  {
   "cell_type": "code",
   "execution_count": 2,
   "metadata": {},
   "outputs": [],
   "source": [
    "import pandas as pd\n",
    "\n",
    "df = pd.DataFrame(data_list)\n",
    "df.to_csv('data.csv')"
   ]
  }
 ],
 "metadata": {
  "kernelspec": {
   "display_name": ".venv",
   "language": "python",
   "name": "python3"
  },
  "language_info": {
   "codemirror_mode": {
    "name": "ipython",
    "version": 3
   },
   "file_extension": ".py",
   "mimetype": "text/x-python",
   "name": "python",
   "nbconvert_exporter": "python",
   "pygments_lexer": "ipython3",
   "version": "3.12.6"
  }
 },
 "nbformat": 4,
 "nbformat_minor": 2
}
